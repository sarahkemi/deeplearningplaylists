{
 "cells": [
  {
   "cell_type": "code",
   "execution_count": 3,
   "metadata": {
    "collapsed": true
   },
   "outputs": [
    {
     "name": "stdout",
     "output_type": "stream",
     "text": [
      "Collecting pandas\n",
      "  Downloading https://files.pythonhosted.org/packages/6b/b5/76538d8a202f8c368d30c18892d33664d1a3b2c078af8513ee5b5d172629/pandas-0.22.0-cp27-cp27mu-manylinux1_x86_64.whl (24.3MB)\n",
      "\u001b[K    100% |████████████████████████████████| 24.3MB 47kB/s  eta 0:00:01\n",
      "\u001b[?25hRequirement already satisfied: pytz>=2011k in /home/aladetan/.pyenv/versions/2.7.14/lib/python2.7/site-packages (from pandas)\n",
      "Requirement already satisfied: numpy>=1.9.0 in /home/aladetan/.pyenv/versions/2.7.14/lib/python2.7/site-packages (from pandas)\n",
      "Requirement already satisfied: python-dateutil in /home/aladetan/.pyenv/versions/2.7.14/lib/python2.7/site-packages (from pandas)\n",
      "Requirement already satisfied: six>=1.5 in /home/aladetan/.pyenv/versions/2.7.14/lib/python2.7/site-packages (from python-dateutil->pandas)\n",
      "Installing collected packages: pandas\n",
      "Successfully installed pandas-0.22.0\n",
      "\u001b[33mYou are using pip version 9.0.1, however version 10.0.1 is available.\n",
      "You should consider upgrading via the 'pip install --upgrade pip' command.\u001b[0m\n"
     ]
    }
   ],
   "source": [
    "!pip install pandas"
   ]
  },
  {
   "cell_type": "code",
   "execution_count": 28,
   "metadata": {},
   "outputs": [],
   "source": [
    "from IPython.core.interactiveshell import InteractiveShell\n",
    "InteractiveShell.ast_node_interactivity = \"all\""
   ]
  },
  {
   "cell_type": "code",
   "execution_count": 4,
   "metadata": {},
   "outputs": [],
   "source": [
    "import spotipy\n",
    "from spotipy import util\n",
    "from config import config\n",
    "import json\n",
    "\n",
    "import pandas as pd\n",
    "import numpy as np\n",
    "import matplotlib.pyplot as plt\n",
    "%matplotlib inline\n"
   ]
  },
  {
   "cell_type": "code",
   "execution_count": 19,
   "metadata": {},
   "outputs": [],
   "source": [
    "from spotipy.oauth2 import SpotifyClientCredentials\n",
    "\n",
    "client_credentials_manager = SpotifyClientCredentials(client_id=config['spotify_id'], client_secret=config['spotify_secret'])\n",
    "sp = spotipy.Spotify(client_credentials_manager=client_credentials_manager)"
   ]
  },
  {
   "cell_type": "markdown",
   "metadata": {},
   "source": [
    "## Quick tools"
   ]
  },
  {
   "cell_type": "markdown",
   "metadata": {},
   "source": [
    "### check # of (all) labelled songs"
   ]
  },
  {
   "cell_type": "code",
   "execution_count": 15,
   "metadata": {
    "scrolled": false
   },
   "outputs": [
    {
     "name": "stdout",
     "output_type": "stream",
     "text": [
      "181\n"
     ]
    }
   ],
   "source": [
    "l = pd.read_json('labelled', orient='rows')\n",
    "print(l.shape[1])"
   ]
  },
  {
   "cell_type": "markdown",
   "metadata": {},
   "source": [
    "## Exploring initial labelled data"
   ]
  },
  {
   "cell_type": "markdown",
   "metadata": {},
   "source": [
    "### Grab song features from Spotify"
   ]
  },
  {
   "cell_type": "code",
   "execution_count": null,
   "metadata": {},
   "outputs": [],
   "source": [
    "json = json.load(open('labelled_sample'))"
   ]
  },
  {
   "cell_type": "markdown",
   "metadata": {},
   "source": [
    "In this step I'm also going to modify the mood label so it's a consistent vector "
   ]
  },
  {
   "cell_type": "code",
   "execution_count": 85,
   "metadata": {},
   "outputs": [],
   "source": [
    "def mood_vector(moods, readable):\n",
    "    positions = {'chill':0, 'hype':1, 'happy':2, 'sad':3}\n",
    "    p_list = ['chill', 'hype', 'happy', 'sad']\n",
    "    vector = [0,0,0,0]\n",
    "    for mood in moods:\n",
    "        vector[positions[mood]] = 1\n",
    "    \n",
    "    output = \"\"\n",
    "    if readable:\n",
    "        string = \"\"\n",
    "        for i, val in enumerate(vector):\n",
    "            if val:\n",
    "                string += p_list[i] + \" \"\n",
    "        output = string[:-1]\n",
    "    else:\n",
    "        output = str(vector)\n",
    "    return output\n"
   ]
  },
  {
   "cell_type": "code",
   "execution_count": 90,
   "metadata": {
    "scrolled": true
   },
   "outputs": [
    {
     "data": {
      "text/html": [
       "<div>\n",
       "<style scoped>\n",
       "    .dataframe tbody tr th:only-of-type {\n",
       "        vertical-align: middle;\n",
       "    }\n",
       "\n",
       "    .dataframe tbody tr th {\n",
       "        vertical-align: top;\n",
       "    }\n",
       "\n",
       "    .dataframe thead th {\n",
       "        text-align: right;\n",
       "    }\n",
       "</style>\n",
       "<table border=\"1\" class=\"dataframe\">\n",
       "  <thead>\n",
       "    <tr style=\"text-align: right;\">\n",
       "      <th></th>\n",
       "      <th>title</th>\n",
       "      <th>label</th>\n",
       "      <th>mood1</th>\n",
       "      <th>mood2</th>\n",
       "    </tr>\n",
       "    <tr>\n",
       "      <th>id</th>\n",
       "      <th></th>\n",
       "      <th></th>\n",
       "      <th></th>\n",
       "      <th></th>\n",
       "    </tr>\n",
       "  </thead>\n",
       "  <tbody>\n",
       "    <tr>\n",
       "      <th>5ClmYd83GFMM8Unue3dqKJ</th>\n",
       "      <td>Bands</td>\n",
       "      <td>hype happy</td>\n",
       "      <td>hype</td>\n",
       "      <td>happy</td>\n",
       "    </tr>\n",
       "    <tr>\n",
       "      <th>49fT6owWuknekShh9utsjv</th>\n",
       "      <td>Feedback</td>\n",
       "      <td>hype happy</td>\n",
       "      <td>hype</td>\n",
       "      <td>happy</td>\n",
       "    </tr>\n",
       "    <tr>\n",
       "      <th>1yWpTxNpz61uFb2Y4He9Xe</th>\n",
       "      <td>Still In Love</td>\n",
       "      <td>chill sad</td>\n",
       "      <td>chill</td>\n",
       "      <td>sad</td>\n",
       "    </tr>\n",
       "    <tr>\n",
       "      <th>0ixzR1LXNfGuect63Q58dA</th>\n",
       "      <td>BOY</td>\n",
       "      <td>chill happy</td>\n",
       "      <td>chill</td>\n",
       "      <td>happy</td>\n",
       "    </tr>\n",
       "    <tr>\n",
       "      <th>2QmU4B8fsyWcTQLVDl06Pk</th>\n",
       "      <td>Spice</td>\n",
       "      <td>chill happy</td>\n",
       "      <td>chill</td>\n",
       "      <td>happy</td>\n",
       "    </tr>\n",
       "  </tbody>\n",
       "</table>\n",
       "</div>"
      ],
      "text/plain": [
       "                                title        label  mood1  mood2\n",
       "id                                                              \n",
       "5ClmYd83GFMM8Unue3dqKJ          Bands   hype happy   hype  happy\n",
       "49fT6owWuknekShh9utsjv       Feedback   hype happy   hype  happy\n",
       "1yWpTxNpz61uFb2Y4He9Xe  Still In Love    chill sad  chill    sad\n",
       "0ixzR1LXNfGuect63Q58dA            BOY  chill happy  chill  happy\n",
       "2QmU4B8fsyWcTQLVDl06Pk          Spice  chill happy  chill  happy"
      ]
     },
     "execution_count": 90,
     "metadata": {},
     "output_type": "execute_result"
    }
   ],
   "source": [
    "sample = []\n",
    "for row in json:\n",
    "    label = mood_vector(json[row]['mood'], True)\n",
    "    moods = label.split()\n",
    "    sample.append([row,json[row]['name'],label,moods[0],moods[1]])\n",
    "songs = pd.DataFrame(sample, columns=['id','title','label','mood1','mood2']).set_index('id')\n",
    "songs.head()"
   ]
  },
  {
   "cell_type": "code",
   "execution_count": 87,
   "metadata": {
    "scrolled": true
   },
   "outputs": [
    {
     "data": {
      "text/html": [
       "<div>\n",
       "<style scoped>\n",
       "    .dataframe tbody tr th:only-of-type {\n",
       "        vertical-align: middle;\n",
       "    }\n",
       "\n",
       "    .dataframe tbody tr th {\n",
       "        vertical-align: top;\n",
       "    }\n",
       "\n",
       "    .dataframe thead th {\n",
       "        text-align: right;\n",
       "    }\n",
       "</style>\n",
       "<table border=\"1\" class=\"dataframe\">\n",
       "  <thead>\n",
       "    <tr style=\"text-align: right;\">\n",
       "      <th></th>\n",
       "      <th>acousticness</th>\n",
       "      <th>danceability</th>\n",
       "      <th>duration_ms</th>\n",
       "      <th>energy</th>\n",
       "      <th>instrumentalness</th>\n",
       "      <th>key</th>\n",
       "      <th>liveness</th>\n",
       "      <th>loudness</th>\n",
       "      <th>mode</th>\n",
       "      <th>speechiness</th>\n",
       "      <th>tempo</th>\n",
       "      <th>time_signature</th>\n",
       "      <th>valence</th>\n",
       "    </tr>\n",
       "    <tr>\n",
       "      <th>id</th>\n",
       "      <th></th>\n",
       "      <th></th>\n",
       "      <th></th>\n",
       "      <th></th>\n",
       "      <th></th>\n",
       "      <th></th>\n",
       "      <th></th>\n",
       "      <th></th>\n",
       "      <th></th>\n",
       "      <th></th>\n",
       "      <th></th>\n",
       "      <th></th>\n",
       "      <th></th>\n",
       "    </tr>\n",
       "  </thead>\n",
       "  <tbody>\n",
       "    <tr>\n",
       "      <th>5ClmYd83GFMM8Unue3dqKJ</th>\n",
       "      <td>0.2100</td>\n",
       "      <td>0.834</td>\n",
       "      <td>98734</td>\n",
       "      <td>0.457</td>\n",
       "      <td>0.000000</td>\n",
       "      <td>10</td>\n",
       "      <td>0.0641</td>\n",
       "      <td>-10.775</td>\n",
       "      <td>1</td>\n",
       "      <td>0.5720</td>\n",
       "      <td>158.008</td>\n",
       "      <td>4</td>\n",
       "      <td>0.533</td>\n",
       "    </tr>\n",
       "    <tr>\n",
       "      <th>49fT6owWuknekShh9utsjv</th>\n",
       "      <td>0.5930</td>\n",
       "      <td>0.837</td>\n",
       "      <td>147240</td>\n",
       "      <td>0.562</td>\n",
       "      <td>0.000000</td>\n",
       "      <td>1</td>\n",
       "      <td>0.1040</td>\n",
       "      <td>-6.038</td>\n",
       "      <td>1</td>\n",
       "      <td>0.4920</td>\n",
       "      <td>100.170</td>\n",
       "      <td>4</td>\n",
       "      <td>0.149</td>\n",
       "    </tr>\n",
       "    <tr>\n",
       "      <th>1yWpTxNpz61uFb2Y4He9Xe</th>\n",
       "      <td>0.0485</td>\n",
       "      <td>0.466</td>\n",
       "      <td>206480</td>\n",
       "      <td>0.690</td>\n",
       "      <td>0.000000</td>\n",
       "      <td>8</td>\n",
       "      <td>0.2010</td>\n",
       "      <td>-5.186</td>\n",
       "      <td>1</td>\n",
       "      <td>0.0857</td>\n",
       "      <td>153.504</td>\n",
       "      <td>3</td>\n",
       "      <td>0.478</td>\n",
       "    </tr>\n",
       "    <tr>\n",
       "      <th>0ixzR1LXNfGuect63Q58dA</th>\n",
       "      <td>0.5620</td>\n",
       "      <td>0.554</td>\n",
       "      <td>265160</td>\n",
       "      <td>0.739</td>\n",
       "      <td>0.000026</td>\n",
       "      <td>3</td>\n",
       "      <td>0.1110</td>\n",
       "      <td>-7.869</td>\n",
       "      <td>0</td>\n",
       "      <td>0.4430</td>\n",
       "      <td>80.061</td>\n",
       "      <td>4</td>\n",
       "      <td>0.368</td>\n",
       "    </tr>\n",
       "    <tr>\n",
       "      <th>2QmU4B8fsyWcTQLVDl06Pk</th>\n",
       "      <td>0.5140</td>\n",
       "      <td>0.574</td>\n",
       "      <td>219648</td>\n",
       "      <td>0.451</td>\n",
       "      <td>0.000000</td>\n",
       "      <td>6</td>\n",
       "      <td>0.0823</td>\n",
       "      <td>-10.803</td>\n",
       "      <td>0</td>\n",
       "      <td>0.1910</td>\n",
       "      <td>83.950</td>\n",
       "      <td>4</td>\n",
       "      <td>0.616</td>\n",
       "    </tr>\n",
       "  </tbody>\n",
       "</table>\n",
       "</div>"
      ],
      "text/plain": [
       "                        acousticness  danceability  duration_ms  energy  \\\n",
       "id                                                                        \n",
       "5ClmYd83GFMM8Unue3dqKJ        0.2100         0.834        98734   0.457   \n",
       "49fT6owWuknekShh9utsjv        0.5930         0.837       147240   0.562   \n",
       "1yWpTxNpz61uFb2Y4He9Xe        0.0485         0.466       206480   0.690   \n",
       "0ixzR1LXNfGuect63Q58dA        0.5620         0.554       265160   0.739   \n",
       "2QmU4B8fsyWcTQLVDl06Pk        0.5140         0.574       219648   0.451   \n",
       "\n",
       "                        instrumentalness  key  liveness  loudness  mode  \\\n",
       "id                                                                        \n",
       "5ClmYd83GFMM8Unue3dqKJ          0.000000   10    0.0641   -10.775     1   \n",
       "49fT6owWuknekShh9utsjv          0.000000    1    0.1040    -6.038     1   \n",
       "1yWpTxNpz61uFb2Y4He9Xe          0.000000    8    0.2010    -5.186     1   \n",
       "0ixzR1LXNfGuect63Q58dA          0.000026    3    0.1110    -7.869     0   \n",
       "2QmU4B8fsyWcTQLVDl06Pk          0.000000    6    0.0823   -10.803     0   \n",
       "\n",
       "                        speechiness    tempo  time_signature  valence  \n",
       "id                                                                     \n",
       "5ClmYd83GFMM8Unue3dqKJ       0.5720  158.008               4    0.533  \n",
       "49fT6owWuknekShh9utsjv       0.4920  100.170               4    0.149  \n",
       "1yWpTxNpz61uFb2Y4He9Xe       0.0857  153.504               3    0.478  \n",
       "0ixzR1LXNfGuect63Q58dA       0.4430   80.061               4    0.368  \n",
       "2QmU4B8fsyWcTQLVDl06Pk       0.1910   83.950               4    0.616  "
      ]
     },
     "execution_count": 87,
     "metadata": {},
     "output_type": "execute_result"
    }
   ],
   "source": [
    "#remember that max of 50 ids for features\n",
    "features = sp.audio_features(songs.index.tolist())\n",
    "params = pd.DataFrame(features).drop(columns=['analysis_url','track_href','uri','type']).set_index('id')\n",
    "params.head()"
   ]
  },
  {
   "cell_type": "code",
   "execution_count": 91,
   "metadata": {
    "scrolled": false
   },
   "outputs": [
    {
     "data": {
      "text/html": [
       "<div>\n",
       "<style scoped>\n",
       "    .dataframe tbody tr th:only-of-type {\n",
       "        vertical-align: middle;\n",
       "    }\n",
       "\n",
       "    .dataframe tbody tr th {\n",
       "        vertical-align: top;\n",
       "    }\n",
       "\n",
       "    .dataframe thead th {\n",
       "        text-align: right;\n",
       "    }\n",
       "</style>\n",
       "<table border=\"1\" class=\"dataframe\">\n",
       "  <thead>\n",
       "    <tr style=\"text-align: right;\">\n",
       "      <th></th>\n",
       "      <th>title</th>\n",
       "      <th>label</th>\n",
       "      <th>mood1</th>\n",
       "      <th>mood2</th>\n",
       "      <th>acousticness</th>\n",
       "      <th>danceability</th>\n",
       "      <th>duration_ms</th>\n",
       "      <th>energy</th>\n",
       "      <th>instrumentalness</th>\n",
       "      <th>key</th>\n",
       "      <th>liveness</th>\n",
       "      <th>loudness</th>\n",
       "      <th>mode</th>\n",
       "      <th>speechiness</th>\n",
       "      <th>tempo</th>\n",
       "      <th>time_signature</th>\n",
       "      <th>valence</th>\n",
       "    </tr>\n",
       "    <tr>\n",
       "      <th>id</th>\n",
       "      <th></th>\n",
       "      <th></th>\n",
       "      <th></th>\n",
       "      <th></th>\n",
       "      <th></th>\n",
       "      <th></th>\n",
       "      <th></th>\n",
       "      <th></th>\n",
       "      <th></th>\n",
       "      <th></th>\n",
       "      <th></th>\n",
       "      <th></th>\n",
       "      <th></th>\n",
       "      <th></th>\n",
       "      <th></th>\n",
       "      <th></th>\n",
       "      <th></th>\n",
       "    </tr>\n",
       "  </thead>\n",
       "  <tbody>\n",
       "    <tr>\n",
       "      <th>5ClmYd83GFMM8Unue3dqKJ</th>\n",
       "      <td>Bands</td>\n",
       "      <td>hype happy</td>\n",
       "      <td>hype</td>\n",
       "      <td>happy</td>\n",
       "      <td>0.2100</td>\n",
       "      <td>0.834</td>\n",
       "      <td>98734</td>\n",
       "      <td>0.457</td>\n",
       "      <td>0.000000</td>\n",
       "      <td>10</td>\n",
       "      <td>0.0641</td>\n",
       "      <td>-10.775</td>\n",
       "      <td>1</td>\n",
       "      <td>0.5720</td>\n",
       "      <td>158.008</td>\n",
       "      <td>4</td>\n",
       "      <td>0.533</td>\n",
       "    </tr>\n",
       "    <tr>\n",
       "      <th>49fT6owWuknekShh9utsjv</th>\n",
       "      <td>Feedback</td>\n",
       "      <td>hype happy</td>\n",
       "      <td>hype</td>\n",
       "      <td>happy</td>\n",
       "      <td>0.5930</td>\n",
       "      <td>0.837</td>\n",
       "      <td>147240</td>\n",
       "      <td>0.562</td>\n",
       "      <td>0.000000</td>\n",
       "      <td>1</td>\n",
       "      <td>0.1040</td>\n",
       "      <td>-6.038</td>\n",
       "      <td>1</td>\n",
       "      <td>0.4920</td>\n",
       "      <td>100.170</td>\n",
       "      <td>4</td>\n",
       "      <td>0.149</td>\n",
       "    </tr>\n",
       "    <tr>\n",
       "      <th>1yWpTxNpz61uFb2Y4He9Xe</th>\n",
       "      <td>Still In Love</td>\n",
       "      <td>chill sad</td>\n",
       "      <td>chill</td>\n",
       "      <td>sad</td>\n",
       "      <td>0.0485</td>\n",
       "      <td>0.466</td>\n",
       "      <td>206480</td>\n",
       "      <td>0.690</td>\n",
       "      <td>0.000000</td>\n",
       "      <td>8</td>\n",
       "      <td>0.2010</td>\n",
       "      <td>-5.186</td>\n",
       "      <td>1</td>\n",
       "      <td>0.0857</td>\n",
       "      <td>153.504</td>\n",
       "      <td>3</td>\n",
       "      <td>0.478</td>\n",
       "    </tr>\n",
       "    <tr>\n",
       "      <th>0ixzR1LXNfGuect63Q58dA</th>\n",
       "      <td>BOY</td>\n",
       "      <td>chill happy</td>\n",
       "      <td>chill</td>\n",
       "      <td>happy</td>\n",
       "      <td>0.5620</td>\n",
       "      <td>0.554</td>\n",
       "      <td>265160</td>\n",
       "      <td>0.739</td>\n",
       "      <td>0.000026</td>\n",
       "      <td>3</td>\n",
       "      <td>0.1110</td>\n",
       "      <td>-7.869</td>\n",
       "      <td>0</td>\n",
       "      <td>0.4430</td>\n",
       "      <td>80.061</td>\n",
       "      <td>4</td>\n",
       "      <td>0.368</td>\n",
       "    </tr>\n",
       "    <tr>\n",
       "      <th>2QmU4B8fsyWcTQLVDl06Pk</th>\n",
       "      <td>Spice</td>\n",
       "      <td>chill happy</td>\n",
       "      <td>chill</td>\n",
       "      <td>happy</td>\n",
       "      <td>0.5140</td>\n",
       "      <td>0.574</td>\n",
       "      <td>219648</td>\n",
       "      <td>0.451</td>\n",
       "      <td>0.000000</td>\n",
       "      <td>6</td>\n",
       "      <td>0.0823</td>\n",
       "      <td>-10.803</td>\n",
       "      <td>0</td>\n",
       "      <td>0.1910</td>\n",
       "      <td>83.950</td>\n",
       "      <td>4</td>\n",
       "      <td>0.616</td>\n",
       "    </tr>\n",
       "  </tbody>\n",
       "</table>\n",
       "</div>"
      ],
      "text/plain": [
       "                                title        label  mood1  mood2  \\\n",
       "id                                                                 \n",
       "5ClmYd83GFMM8Unue3dqKJ          Bands   hype happy   hype  happy   \n",
       "49fT6owWuknekShh9utsjv       Feedback   hype happy   hype  happy   \n",
       "1yWpTxNpz61uFb2Y4He9Xe  Still In Love    chill sad  chill    sad   \n",
       "0ixzR1LXNfGuect63Q58dA            BOY  chill happy  chill  happy   \n",
       "2QmU4B8fsyWcTQLVDl06Pk          Spice  chill happy  chill  happy   \n",
       "\n",
       "                        acousticness  danceability  duration_ms  energy  \\\n",
       "id                                                                        \n",
       "5ClmYd83GFMM8Unue3dqKJ        0.2100         0.834        98734   0.457   \n",
       "49fT6owWuknekShh9utsjv        0.5930         0.837       147240   0.562   \n",
       "1yWpTxNpz61uFb2Y4He9Xe        0.0485         0.466       206480   0.690   \n",
       "0ixzR1LXNfGuect63Q58dA        0.5620         0.554       265160   0.739   \n",
       "2QmU4B8fsyWcTQLVDl06Pk        0.5140         0.574       219648   0.451   \n",
       "\n",
       "                        instrumentalness  key  liveness  loudness  mode  \\\n",
       "id                                                                        \n",
       "5ClmYd83GFMM8Unue3dqKJ          0.000000   10    0.0641   -10.775     1   \n",
       "49fT6owWuknekShh9utsjv          0.000000    1    0.1040    -6.038     1   \n",
       "1yWpTxNpz61uFb2Y4He9Xe          0.000000    8    0.2010    -5.186     1   \n",
       "0ixzR1LXNfGuect63Q58dA          0.000026    3    0.1110    -7.869     0   \n",
       "2QmU4B8fsyWcTQLVDl06Pk          0.000000    6    0.0823   -10.803     0   \n",
       "\n",
       "                        speechiness    tempo  time_signature  valence  \n",
       "id                                                                     \n",
       "5ClmYd83GFMM8Unue3dqKJ       0.5720  158.008               4    0.533  \n",
       "49fT6owWuknekShh9utsjv       0.4920  100.170               4    0.149  \n",
       "1yWpTxNpz61uFb2Y4He9Xe       0.0857  153.504               3    0.478  \n",
       "0ixzR1LXNfGuect63Q58dA       0.4430   80.061               4    0.368  \n",
       "2QmU4B8fsyWcTQLVDl06Pk       0.1910   83.950               4    0.616  "
      ]
     },
     "execution_count": 91,
     "metadata": {},
     "output_type": "execute_result"
    }
   ],
   "source": [
    "data = songs.join(params)\n",
    "data.head()"
   ]
  },
  {
   "cell_type": "markdown",
   "metadata": {},
   "source": [
    "## Graphs! Stats!"
   ]
  },
  {
   "cell_type": "code",
   "execution_count": 130,
   "metadata": {},
   "outputs": [
    {
     "data": {
      "text/plain": [
       "<matplotlib.axes._subplots.AxesSubplot at 0x7f3bda590ed0>"
      ]
     },
     "execution_count": 130,
     "metadata": {},
     "output_type": "execute_result"
    },
    {
     "data": {
      "image/png": "[encoded data removed]",
      "text/plain": [
       "<matplotlib.figure.Figure at 0x7f3bda59b650>"
      ]
     },
     "metadata": {},
     "output_type": "display_data"
    }
   ],
   "source": [
    "data.groupby(['mood1','mood2']).title.count().plot(kind='bar')"
   ]
  },
  {
   "cell_type": "markdown",
   "metadata": {},
   "source": [
    "Let's look at correlations between danceability between labels"
   ]
  },
  {
   "cell_type": "code",
   "execution_count": 107,
   "metadata": {
    "scrolled": false
   },
   "outputs": [
    {
     "data": {
      "image/png": "[encoded data removed]",
      "text/plain": [
       "<matplotlib.figure.Figure at 0x7f3bdab676d0>"
      ]
     },
     "metadata": {},
     "output_type": "display_data"
    }
   ],
   "source": [
    "dancey = data.groupby(['mood1','mood2'])['danceability'].mean().plot(kind='bar')"
   ]
  },
  {
   "cell_type": "markdown",
   "metadata": {},
   "source": [
    "looking at moods seperately"
   ]
  },
  {
   "cell_type": "code",
   "execution_count": 103,
   "metadata": {},
   "outputs": [
    {
     "data": {
      "image/png": "[encoded data removed]",
      "text/plain": [
       "<matplotlib.figure.Figure at 0x7f3bdae26710>"
      ]
     },
     "metadata": {},
     "output_type": "display_data"
    }
   ],
   "source": [
    "graph = data.groupby(['mood1'])['danceability'].mean().plot(kind='bar')"
   ]
  },
  {
   "cell_type": "code",
   "execution_count": 104,
   "metadata": {},
   "outputs": [
    {
     "data": {
      "image/png": "[encoded data removed]",
      "text/plain": [
       "<matplotlib.figure.Figure at 0x7f3bdd77f750>"
      ]
     },
     "metadata": {},
     "output_type": "display_data"
    }
   ],
   "source": [
    "graph = data.groupby(['mood2'])['danceability'].mean().plot(kind='bar')"
   ]
  },
  {
   "cell_type": "markdown",
   "metadata": {},
   "source": [
    "Maybe energy?"
   ]
  },
  {
   "cell_type": "code",
   "execution_count": 108,
   "metadata": {},
   "outputs": [
    {
     "data": {
      "image/png": "[encoded data removed]",
      "text/plain": [
       "<matplotlib.figure.Figure at 0x7f3bdaaee150>"
      ]
     },
     "metadata": {},
     "output_type": "display_data"
    }
   ],
   "source": [
    "energy = data.groupby(['mood1','mood2'])['energy'].mean().plot(kind='bar')"
   ]
  },
  {
   "cell_type": "markdown",
   "metadata": {},
   "source": [
    "Tempo"
   ]
  },
  {
   "cell_type": "code",
   "execution_count": 109,
   "metadata": {},
   "outputs": [
    {
     "data": {
      "image/png": "[encoded data removed]",
      "text/plain": [
       "<matplotlib.figure.Figure at 0x7f3bda9940d0>"
      ]
     },
     "metadata": {},
     "output_type": "display_data"
    }
   ],
   "source": [
    "tempo = data.groupby(['mood1','mood2'])['tempo'].mean().plot(kind='bar')"
   ]
  },
  {
   "cell_type": "markdown",
   "metadata": {},
   "source": [
    "That's strange, but this is a small and particular dataset"
   ]
  },
  {
   "cell_type": "markdown",
   "metadata": {},
   "source": [
    "Will take a gander at mode and valence"
   ]
  },
  {
   "cell_type": "code",
   "execution_count": 123,
   "metadata": {},
   "outputs": [
    {
     "data": {
      "image/png": "[encoded data removed]",
      "text/plain": [
       "<matplotlib.figure.Figure at 0x7f3bda32c8d0>"
      ]
     },
     "metadata": {},
     "output_type": "display_data"
    }
   ],
   "source": [
    "mode = data.groupby(['mood1','mood2'])['mode'].mean().plot(kind='bar')"
   ]
  },
  {
   "cell_type": "code",
   "execution_count": 124,
   "metadata": {},
   "outputs": [
    {
     "data": {
      "image/png": "[encoded data removed]",
      "text/plain": [
       "<matplotlib.figure.Figure at 0x7f3bda340d90>"
      ]
     },
     "metadata": {},
     "output_type": "display_data"
    }
   ],
   "source": [
    "valence = data.groupby(['mood1','mood2'])['valence'].mean().plot(kind='bar')"
   ]
  },
  {
   "cell_type": "markdown",
   "metadata": {},
   "source": [
    "Nice, this makes sense!"
   ]
  }
 ],
 "metadata": {
  "kernelspec": {
   "display_name": "Python 3",
   "language": "python",
   "name": "python3"
  },
  "language_info": {
   "codemirror_mode": {
    "name": "ipython",
    "version": 2
   },
   "file_extension": ".py",
   "mimetype": "text/x-python",
   "name": "python",
   "nbconvert_exporter": "python",
   "pygments_lexer": "ipython2",
   "version": "2.7.14"
  }
 },
 "nbformat": 4,
 "nbformat_minor": 2
}
