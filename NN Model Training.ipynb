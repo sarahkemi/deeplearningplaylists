{
 "cells": [
  {
   "cell_type": "code",
   "execution_count": 1,
   "metadata": {
    "collapsed": true
   },
   "outputs": [
    {
     "name": "stdout",
     "output_type": "stream",
     "text": [
      "Collecting keras\n",
      "  Downloading https://files.pythonhosted.org/packages/ba/65/e4aff762b8696ec0626a6654b1e73b396fcc8b7cc6b98d78a1bc53b85b48/Keras-2.1.5-py2.py3-none-any.whl (334kB)\n",
      "\u001b[K    100% |████████████████████████████████| 337kB 2.7MB/s ta 0:00:01\n",
      "\u001b[?25hCollecting pyyaml (from keras)\n",
      "  Downloading https://files.pythonhosted.org/packages/4a/85/db5a2df477072b2902b0eb892feb37d88ac635d36245a72a6a69b23b383a/PyYAML-3.12.tar.gz (253kB)\n",
      "\u001b[K    100% |████████████████████████████████| 256kB 3.0MB/s ta 0:00:01\n",
      "\u001b[?25hRequirement already satisfied: six>=1.9.0 in /home/aladetan/.pyenv/versions/2.7.14/lib/python2.7/site-packages (from keras)\n",
      "Collecting scipy>=0.14 (from keras)\n",
      "  Downloading https://files.pythonhosted.org/packages/9c/0b/5deb712a9ea5bb0a1de837d04ef7625c5f3ee44efe7ed0765ceda681d7f1/scipy-1.0.1-cp27-cp27mu-manylinux1_x86_64.whl (46.7MB)\n",
      "\u001b[K    100% |████████████████████████████████| 46.7MB 25kB/s  eta 0:00:01\n",
      "\u001b[?25hRequirement already satisfied: numpy>=1.9.1 in /home/aladetan/.pyenv/versions/2.7.14/lib/python2.7/site-packages (from keras)\n",
      "Building wheels for collected packages: pyyaml\n",
      "  Running setup.py bdist_wheel for pyyaml ... \u001b[?25ldone\n",
      "\u001b[?25h  Stored in directory: /home/aladetan/.cache/pip/wheels/03/05/65/bdc14f2c6e09e82ae3e0f13d021e1b6b2481437ea2f207df3f\n",
      "Successfully built pyyaml\n",
      "Installing collected packages: pyyaml, scipy, keras\n",
      "Successfully installed keras-2.1.5 pyyaml-3.12 scipy-1.0.1\n",
      "\u001b[33mYou are using pip version 9.0.1, however version 10.0.1 is available.\n",
      "You should consider upgrading via the 'pip install --upgrade pip' command.\u001b[0m\n"
     ]
    }
   ],
   "source": [
    "!pip install keras"
   ]
  },
  {
   "cell_type": "code",
   "execution_count": 3,
   "metadata": {},
   "outputs": [],
   "source": [
    "from IPython.core.interactiveshell import InteractiveShell\n",
    "InteractiveShell.ast_node_interactivity = \"all\""
   ]
  },
  {
   "cell_type": "code",
   "execution_count": 121,
   "metadata": {},
   "outputs": [],
   "source": [
    "import json\n",
    "import pandas as pd\n",
    "import numpy as np\n",
    "\n",
    "import matplotlib.pyplot as plt\n",
    "%matplotlib inline"
   ]
  },
  {
   "cell_type": "code",
   "execution_count": 74,
   "metadata": {},
   "outputs": [],
   "source": [
    "import spotipy\n",
    "from spotipy import util\n",
    "from config import config"
   ]
  },
  {
   "cell_type": "code",
   "execution_count": 77,
   "metadata": {},
   "outputs": [],
   "source": [
    "from spotipy.oauth2 import SpotifyClientCredentials\n",
    "\n",
    "client_credentials_manager = SpotifyClientCredentials(client_id=config['spotify_id'], client_secret=config['spotify_secret'])\n",
    "sp = spotipy.Spotify(client_credentials_manager=client_credentials_manager)"
   ]
  },
  {
   "cell_type": "markdown",
   "metadata": {},
   "source": [
    "## Quick tools"
   ]
  },
  {
   "cell_type": "markdown",
   "metadata": {},
   "source": [
    "### check # of (all) labelled songs and features"
   ]
  },
  {
   "cell_type": "code",
   "execution_count": 128,
   "metadata": {
    "scrolled": true
   },
   "outputs": [
    {
     "name": "stdout",
     "output_type": "stream",
     "text": [
      "1270\n",
      "1270\n",
      "True\n"
     ]
    }
   ],
   "source": [
    "l = pd.read_json('labelled', orient='rows')\n",
    "f  = pd.read_json('features')\n",
    "print(l.shape[1])\n",
    "print(f.shape[0])\n",
    "print l.shape[1] == f.shape[0]"
   ]
  },
  {
   "cell_type": "markdown",
   "metadata": {},
   "source": [
    "## Data Collection\n",
    "\n",
    "Features are already downloaded to save time/bandwith, but will continue to recollect data in notebook until data is too big/labelling is done"
   ]
  },
  {
   "cell_type": "code",
   "execution_count": 129,
   "metadata": {},
   "outputs": [],
   "source": [
    "labelled = json.load(open('labelled'))"
   ]
  },
  {
   "cell_type": "code",
   "execution_count": 130,
   "metadata": {},
   "outputs": [],
   "source": [
    "def mood_encode(moods):\n",
    "    values = {'chill':0, 'hype':2, 'happy':1, 'sad':2}\n",
    "#     chill happy 1\n",
    "#     chill sad 2\n",
    "#     hype happy 3\n",
    "#     hype sad 4\n",
    "    output = 0\n",
    "    for mood in moods:\n",
    "        output += values[mood]\n",
    "        \n",
    "    return output"
   ]
  },
  {
   "cell_type": "code",
   "execution_count": 131,
   "metadata": {},
   "outputs": [
    {
     "data": {
      "text/html": [
       "<div>\n",
       "<style scoped>\n",
       "    .dataframe tbody tr th:only-of-type {\n",
       "        vertical-align: middle;\n",
       "    }\n",
       "\n",
       "    .dataframe tbody tr th {\n",
       "        vertical-align: top;\n",
       "    }\n",
       "\n",
       "    .dataframe thead th {\n",
       "        text-align: right;\n",
       "    }\n",
       "</style>\n",
       "<table border=\"1\" class=\"dataframe\">\n",
       "  <thead>\n",
       "    <tr style=\"text-align: right;\">\n",
       "      <th></th>\n",
       "      <th>title</th>\n",
       "      <th>label</th>\n",
       "    </tr>\n",
       "    <tr>\n",
       "      <th>id</th>\n",
       "      <th></th>\n",
       "      <th></th>\n",
       "    </tr>\n",
       "  </thead>\n",
       "  <tbody>\n",
       "    <tr>\n",
       "      <th>3KNlsVwlMjjKn1g2tTmiIe</th>\n",
       "      <td>She Said</td>\n",
       "      <td>3</td>\n",
       "    </tr>\n",
       "    <tr>\n",
       "      <th>72X7mJmnx6pHyRWvtelVkL</th>\n",
       "      <td>Safe</td>\n",
       "      <td>3</td>\n",
       "    </tr>\n",
       "    <tr>\n",
       "      <th>6BbINUfGabVyiNFJpQXn3x</th>\n",
       "      <td>Wicked</td>\n",
       "      <td>3</td>\n",
       "    </tr>\n",
       "    <tr>\n",
       "      <th>3s2eG9xSDGyd705tT0hD43</th>\n",
       "      <td>Magic City</td>\n",
       "      <td>3</td>\n",
       "    </tr>\n",
       "    <tr>\n",
       "      <th>2ImWMn8Pqxa8gHfk1ZJvAh</th>\n",
       "      <td>Use My Heart</td>\n",
       "      <td>2</td>\n",
       "    </tr>\n",
       "  </tbody>\n",
       "</table>\n",
       "</div>"
      ],
      "text/plain": [
       "                               title  label\n",
       "id                                         \n",
       "3KNlsVwlMjjKn1g2tTmiIe      She Said      3\n",
       "72X7mJmnx6pHyRWvtelVkL          Safe      3\n",
       "6BbINUfGabVyiNFJpQXn3x        Wicked      3\n",
       "3s2eG9xSDGyd705tT0hD43    Magic City      3\n",
       "2ImWMn8Pqxa8gHfk1ZJvAh  Use My Heart      2"
      ]
     },
     "execution_count": 131,
     "metadata": {},
     "output_type": "execute_result"
    }
   ],
   "source": [
    "sample = []\n",
    "for row in labelled:\n",
    "    label = mood_encode(labelled[row]['mood'])\n",
    "    sample.append([row,labelled[row]['name'],label])\n",
    "songs = pd.DataFrame(sample, columns=['id','title','label']).set_index('id')\n",
    "songs.head()"
   ]
  },
  {
   "cell_type": "code",
   "execution_count": 132,
   "metadata": {},
   "outputs": [
    {
     "data": {
      "text/html": [
       "<div>\n",
       "<style scoped>\n",
       "    .dataframe tbody tr th:only-of-type {\n",
       "        vertical-align: middle;\n",
       "    }\n",
       "\n",
       "    .dataframe tbody tr th {\n",
       "        vertical-align: top;\n",
       "    }\n",
       "\n",
       "    .dataframe thead th {\n",
       "        text-align: right;\n",
       "    }\n",
       "</style>\n",
       "<table border=\"1\" class=\"dataframe\">\n",
       "  <thead>\n",
       "    <tr style=\"text-align: right;\">\n",
       "      <th></th>\n",
       "      <th>acousticness</th>\n",
       "      <th>danceability</th>\n",
       "      <th>duration_ms</th>\n",
       "      <th>energy</th>\n",
       "      <th>instrumentalness</th>\n",
       "      <th>key</th>\n",
       "      <th>liveness</th>\n",
       "      <th>loudness</th>\n",
       "      <th>mode</th>\n",
       "      <th>speechiness</th>\n",
       "      <th>tempo</th>\n",
       "      <th>time_signature</th>\n",
       "      <th>valence</th>\n",
       "    </tr>\n",
       "    <tr>\n",
       "      <th>id</th>\n",
       "      <th></th>\n",
       "      <th></th>\n",
       "      <th></th>\n",
       "      <th></th>\n",
       "      <th></th>\n",
       "      <th></th>\n",
       "      <th></th>\n",
       "      <th></th>\n",
       "      <th></th>\n",
       "      <th></th>\n",
       "      <th></th>\n",
       "      <th></th>\n",
       "      <th></th>\n",
       "    </tr>\n",
       "  </thead>\n",
       "  <tbody>\n",
       "    <tr>\n",
       "      <th>4l94386YhnCzduk44xzFRx</th>\n",
       "      <td>0.00594</td>\n",
       "      <td>0.547</td>\n",
       "      <td>170960</td>\n",
       "      <td>0.848</td>\n",
       "      <td>0.000000</td>\n",
       "      <td>2</td>\n",
       "      <td>0.0743</td>\n",
       "      <td>-5.622</td>\n",
       "      <td>1</td>\n",
       "      <td>0.0680</td>\n",
       "      <td>128.987</td>\n",
       "      <td>4</td>\n",
       "      <td>0.393</td>\n",
       "    </tr>\n",
       "    <tr>\n",
       "      <th>07RULM1xjoEaal27GAsioi</th>\n",
       "      <td>0.21500</td>\n",
       "      <td>0.602</td>\n",
       "      <td>230027</td>\n",
       "      <td>0.678</td>\n",
       "      <td>0.000000</td>\n",
       "      <td>7</td>\n",
       "      <td>0.1150</td>\n",
       "      <td>-6.946</td>\n",
       "      <td>1</td>\n",
       "      <td>0.0300</td>\n",
       "      <td>95.496</td>\n",
       "      <td>4</td>\n",
       "      <td>0.922</td>\n",
       "    </tr>\n",
       "    <tr>\n",
       "      <th>1FvU97lrWOG2NRxErh6OZz</th>\n",
       "      <td>0.06330</td>\n",
       "      <td>0.897</td>\n",
       "      <td>334467</td>\n",
       "      <td>0.661</td>\n",
       "      <td>0.000000</td>\n",
       "      <td>8</td>\n",
       "      <td>0.1160</td>\n",
       "      <td>-6.200</td>\n",
       "      <td>0</td>\n",
       "      <td>0.2700</td>\n",
       "      <td>127.081</td>\n",
       "      <td>4</td>\n",
       "      <td>0.193</td>\n",
       "    </tr>\n",
       "    <tr>\n",
       "      <th>4XYOnP0tFe8ifE3hHitQBF</th>\n",
       "      <td>0.66700</td>\n",
       "      <td>0.528</td>\n",
       "      <td>189240</td>\n",
       "      <td>0.288</td>\n",
       "      <td>0.000000</td>\n",
       "      <td>0</td>\n",
       "      <td>0.1130</td>\n",
       "      <td>-8.608</td>\n",
       "      <td>0</td>\n",
       "      <td>0.0262</td>\n",
       "      <td>95.389</td>\n",
       "      <td>4</td>\n",
       "      <td>0.294</td>\n",
       "    </tr>\n",
       "    <tr>\n",
       "      <th>5NGcTyu5c4o5OQN2qDHMuq</th>\n",
       "      <td>0.32100</td>\n",
       "      <td>0.668</td>\n",
       "      <td>183053</td>\n",
       "      <td>0.759</td>\n",
       "      <td>0.000001</td>\n",
       "      <td>9</td>\n",
       "      <td>0.1470</td>\n",
       "      <td>-6.394</td>\n",
       "      <td>1</td>\n",
       "      <td>0.1380</td>\n",
       "      <td>198.052</td>\n",
       "      <td>4</td>\n",
       "      <td>0.925</td>\n",
       "    </tr>\n",
       "  </tbody>\n",
       "</table>\n",
       "</div>"
      ],
      "text/plain": [
       "                        acousticness  danceability  duration_ms  energy  \\\n",
       "id                                                                        \n",
       "4l94386YhnCzduk44xzFRx       0.00594         0.547       170960   0.848   \n",
       "07RULM1xjoEaal27GAsioi       0.21500         0.602       230027   0.678   \n",
       "1FvU97lrWOG2NRxErh6OZz       0.06330         0.897       334467   0.661   \n",
       "4XYOnP0tFe8ifE3hHitQBF       0.66700         0.528       189240   0.288   \n",
       "5NGcTyu5c4o5OQN2qDHMuq       0.32100         0.668       183053   0.759   \n",
       "\n",
       "                        instrumentalness  key  liveness  loudness  mode  \\\n",
       "id                                                                        \n",
       "4l94386YhnCzduk44xzFRx          0.000000    2    0.0743    -5.622     1   \n",
       "07RULM1xjoEaal27GAsioi          0.000000    7    0.1150    -6.946     1   \n",
       "1FvU97lrWOG2NRxErh6OZz          0.000000    8    0.1160    -6.200     0   \n",
       "4XYOnP0tFe8ifE3hHitQBF          0.000000    0    0.1130    -8.608     0   \n",
       "5NGcTyu5c4o5OQN2qDHMuq          0.000001    9    0.1470    -6.394     1   \n",
       "\n",
       "                        speechiness    tempo  time_signature  valence  \n",
       "id                                                                     \n",
       "4l94386YhnCzduk44xzFRx       0.0680  128.987               4    0.393  \n",
       "07RULM1xjoEaal27GAsioi       0.0300   95.496               4    0.922  \n",
       "1FvU97lrWOG2NRxErh6OZz       0.2700  127.081               4    0.193  \n",
       "4XYOnP0tFe8ifE3hHitQBF       0.0262   95.389               4    0.294  \n",
       "5NGcTyu5c4o5OQN2qDHMuq       0.1380  198.052               4    0.925  "
      ]
     },
     "execution_count": 132,
     "metadata": {},
     "output_type": "execute_result"
    }
   ],
   "source": [
    "features = pd.read_json('features').drop(columns=['analysis_url','track_href','uri','type']).set_index('id')\n",
    "features.head()"
   ]
  },
  {
   "cell_type": "code",
   "execution_count": 133,
   "metadata": {
    "scrolled": true
   },
   "outputs": [
    {
     "data": {
      "text/html": [
       "<div>\n",
       "<style scoped>\n",
       "    .dataframe tbody tr th:only-of-type {\n",
       "        vertical-align: middle;\n",
       "    }\n",
       "\n",
       "    .dataframe tbody tr th {\n",
       "        vertical-align: top;\n",
       "    }\n",
       "\n",
       "    .dataframe thead th {\n",
       "        text-align: right;\n",
       "    }\n",
       "</style>\n",
       "<table border=\"1\" class=\"dataframe\">\n",
       "  <thead>\n",
       "    <tr style=\"text-align: right;\">\n",
       "      <th></th>\n",
       "      <th>title</th>\n",
       "      <th>label</th>\n",
       "      <th>acousticness</th>\n",
       "      <th>danceability</th>\n",
       "      <th>duration_ms</th>\n",
       "      <th>energy</th>\n",
       "      <th>instrumentalness</th>\n",
       "      <th>key</th>\n",
       "      <th>liveness</th>\n",
       "      <th>loudness</th>\n",
       "      <th>mode</th>\n",
       "      <th>speechiness</th>\n",
       "      <th>tempo</th>\n",
       "      <th>time_signature</th>\n",
       "      <th>valence</th>\n",
       "    </tr>\n",
       "    <tr>\n",
       "      <th>id</th>\n",
       "      <th></th>\n",
       "      <th></th>\n",
       "      <th></th>\n",
       "      <th></th>\n",
       "      <th></th>\n",
       "      <th></th>\n",
       "      <th></th>\n",
       "      <th></th>\n",
       "      <th></th>\n",
       "      <th></th>\n",
       "      <th></th>\n",
       "      <th></th>\n",
       "      <th></th>\n",
       "      <th></th>\n",
       "      <th></th>\n",
       "    </tr>\n",
       "  </thead>\n",
       "  <tbody>\n",
       "    <tr>\n",
       "      <th>3KNlsVwlMjjKn1g2tTmiIe</th>\n",
       "      <td>She Said</td>\n",
       "      <td>3</td>\n",
       "      <td>0.00030</td>\n",
       "      <td>0.418</td>\n",
       "      <td>224640</td>\n",
       "      <td>0.945</td>\n",
       "      <td>0.00000</td>\n",
       "      <td>7</td>\n",
       "      <td>0.1060</td>\n",
       "      <td>-3.757</td>\n",
       "      <td>1</td>\n",
       "      <td>0.0683</td>\n",
       "      <td>165.041</td>\n",
       "      <td>4</td>\n",
       "      <td>0.693</td>\n",
       "    </tr>\n",
       "    <tr>\n",
       "      <th>72X7mJmnx6pHyRWvtelVkL</th>\n",
       "      <td>Safe</td>\n",
       "      <td>3</td>\n",
       "      <td>0.13800</td>\n",
       "      <td>0.691</td>\n",
       "      <td>185822</td>\n",
       "      <td>0.798</td>\n",
       "      <td>0.00000</td>\n",
       "      <td>9</td>\n",
       "      <td>0.3040</td>\n",
       "      <td>-4.493</td>\n",
       "      <td>1</td>\n",
       "      <td>0.0360</td>\n",
       "      <td>102.031</td>\n",
       "      <td>4</td>\n",
       "      <td>0.905</td>\n",
       "    </tr>\n",
       "    <tr>\n",
       "      <th>6BbINUfGabVyiNFJpQXn3x</th>\n",
       "      <td>Wicked</td>\n",
       "      <td>3</td>\n",
       "      <td>0.00191</td>\n",
       "      <td>0.718</td>\n",
       "      <td>173347</td>\n",
       "      <td>0.679</td>\n",
       "      <td>0.01040</td>\n",
       "      <td>11</td>\n",
       "      <td>0.3850</td>\n",
       "      <td>-5.899</td>\n",
       "      <td>0</td>\n",
       "      <td>0.0706</td>\n",
       "      <td>157.970</td>\n",
       "      <td>4</td>\n",
       "      <td>0.205</td>\n",
       "    </tr>\n",
       "    <tr>\n",
       "      <th>3s2eG9xSDGyd705tT0hD43</th>\n",
       "      <td>Magic City</td>\n",
       "      <td>3</td>\n",
       "      <td>0.08410</td>\n",
       "      <td>0.757</td>\n",
       "      <td>175238</td>\n",
       "      <td>0.867</td>\n",
       "      <td>0.09920</td>\n",
       "      <td>0</td>\n",
       "      <td>0.1250</td>\n",
       "      <td>-2.529</td>\n",
       "      <td>0</td>\n",
       "      <td>0.0362</td>\n",
       "      <td>125.962</td>\n",
       "      <td>4</td>\n",
       "      <td>0.499</td>\n",
       "    </tr>\n",
       "    <tr>\n",
       "      <th>2ImWMn8Pqxa8gHfk1ZJvAh</th>\n",
       "      <td>Use My Heart</td>\n",
       "      <td>2</td>\n",
       "      <td>0.20900</td>\n",
       "      <td>0.361</td>\n",
       "      <td>230253</td>\n",
       "      <td>0.658</td>\n",
       "      <td>0.00456</td>\n",
       "      <td>9</td>\n",
       "      <td>0.0887</td>\n",
       "      <td>-9.365</td>\n",
       "      <td>1</td>\n",
       "      <td>0.0400</td>\n",
       "      <td>82.979</td>\n",
       "      <td>4</td>\n",
       "      <td>0.169</td>\n",
       "    </tr>\n",
       "  </tbody>\n",
       "</table>\n",
       "</div>"
      ],
      "text/plain": [
       "                               title  label  acousticness  danceability  \\\n",
       "id                                                                        \n",
       "3KNlsVwlMjjKn1g2tTmiIe      She Said      3       0.00030         0.418   \n",
       "72X7mJmnx6pHyRWvtelVkL          Safe      3       0.13800         0.691   \n",
       "6BbINUfGabVyiNFJpQXn3x        Wicked      3       0.00191         0.718   \n",
       "3s2eG9xSDGyd705tT0hD43    Magic City      3       0.08410         0.757   \n",
       "2ImWMn8Pqxa8gHfk1ZJvAh  Use My Heart      2       0.20900         0.361   \n",
       "\n",
       "                        duration_ms  energy  instrumentalness  key  liveness  \\\n",
       "id                                                                             \n",
       "3KNlsVwlMjjKn1g2tTmiIe       224640   0.945           0.00000    7    0.1060   \n",
       "72X7mJmnx6pHyRWvtelVkL       185822   0.798           0.00000    9    0.3040   \n",
       "6BbINUfGabVyiNFJpQXn3x       173347   0.679           0.01040   11    0.3850   \n",
       "3s2eG9xSDGyd705tT0hD43       175238   0.867           0.09920    0    0.1250   \n",
       "2ImWMn8Pqxa8gHfk1ZJvAh       230253   0.658           0.00456    9    0.0887   \n",
       "\n",
       "                        loudness  mode  speechiness    tempo  time_signature  \\\n",
       "id                                                                             \n",
       "3KNlsVwlMjjKn1g2tTmiIe    -3.757     1       0.0683  165.041               4   \n",
       "72X7mJmnx6pHyRWvtelVkL    -4.493     1       0.0360  102.031               4   \n",
       "6BbINUfGabVyiNFJpQXn3x    -5.899     0       0.0706  157.970               4   \n",
       "3s2eG9xSDGyd705tT0hD43    -2.529     0       0.0362  125.962               4   \n",
       "2ImWMn8Pqxa8gHfk1ZJvAh    -9.365     1       0.0400   82.979               4   \n",
       "\n",
       "                        valence  \n",
       "id                               \n",
       "3KNlsVwlMjjKn1g2tTmiIe    0.693  \n",
       "72X7mJmnx6pHyRWvtelVkL    0.905  \n",
       "6BbINUfGabVyiNFJpQXn3x    0.205  \n",
       "3s2eG9xSDGyd705tT0hD43    0.499  \n",
       "2ImWMn8Pqxa8gHfk1ZJvAh    0.169  "
      ]
     },
     "execution_count": 133,
     "metadata": {},
     "output_type": "execute_result"
    }
   ],
   "source": [
    "data = songs.join(features)\n",
    "data.head()"
   ]
  },
  {
   "cell_type": "code",
   "execution_count": 134,
   "metadata": {
    "scrolled": false
   },
   "outputs": [
    {
     "data": {
      "text/plain": [
       "<matplotlib.axes._subplots.AxesSubplot at 0x7fae8f6d83d0>"
      ]
     },
     "execution_count": 134,
     "metadata": {},
     "output_type": "execute_result"
    },
    {
     "data": {
      "image/png": "[encoded data removed]",
      "text/plain": [
       "<matplotlib.figure.Figure at 0x7fae8f6814d0>"
      ]
     },
     "metadata": {},
     "output_type": "display_data"
    }
   ],
   "source": [
    "data.groupby(['label']).title.count().plot(kind='bar')"
   ]
  },
  {
   "cell_type": "markdown",
   "metadata": {},
   "source": [
    "Need to reshape df to numpy array for keras"
   ]
  },
  {
   "cell_type": "code",
   "execution_count": 151,
   "metadata": {
    "scrolled": true
   },
   "outputs": [
    {
     "name": "stdout",
     "output_type": "stream",
     "text": [
      "12\n",
      "float32\n"
     ]
    }
   ],
   "source": [
    "array = np.float32(data.drop(columns=['title','time_signature']).values)\n",
    "x = array[:,1:]\n",
    "y = array[:,0]\n",
    "dimension = x.shape[1]\n",
    "print(dimension)\n",
    "print(array.dtype)"
   ]
  },
  {
   "cell_type": "markdown",
   "metadata": {},
   "source": [
    "## First NN Attempt"
   ]
  },
  {
   "cell_type": "code",
   "execution_count": 124,
   "metadata": {},
   "outputs": [],
   "source": [
    "from keras.models import Sequential\n",
    "from keras.layers import Dense\n",
    "np.random.seed(8)"
   ]
  },
  {
   "cell_type": "markdown",
   "metadata": {},
   "source": [
    "### Model"
   ]
  },
  {
   "cell_type": "code",
   "execution_count": 152,
   "metadata": {},
   "outputs": [],
   "source": [
    "model = Sequential()\n",
    "model.add(Dense(18, input_dim=dimension, activation='relu'))\n",
    "model.add(Dense(12, activation='relu'))\n",
    "model.add(Dense(1, activation='sigmoid'))"
   ]
  },
  {
   "cell_type": "markdown",
   "metadata": {},
   "source": [
    "### Compling"
   ]
  },
  {
   "cell_type": "code",
   "execution_count": 153,
   "metadata": {},
   "outputs": [],
   "source": [
    "model.compile(loss='binary_crossentropy', optimizer='adam', metrics=['accuracy'])"
   ]
  },
  {
   "cell_type": "markdown",
   "metadata": {},
   "source": [
    "### Fit"
   ]
  },
  {
   "cell_type": "code",
   "execution_count": 154,
   "metadata": {
    "scrolled": true
   },
   "outputs": [
    {
     "name": "stdout",
     "output_type": "stream",
     "text": [
      "Epoch 1/150\n",
      "1270/1270 [==============================] - 1s 408us/step - loss: -21.7419 - acc: 0.2433\n",
      "Epoch 2/150\n",
      "1270/1270 [==============================] - 0s 198us/step - loss: -21.7419 - acc: 0.2433\n",
      "Epoch 3/150\n",
      "1270/1270 [==============================] - 0s 192us/step - loss: -21.7419 - acc: 0.2433\n",
      "Epoch 4/150\n",
      "1270/1270 [==============================] - 0s 158us/step - loss: -21.7419 - acc: 0.2433\n",
      "Epoch 5/150\n",
      "1270/1270 [==============================] - 0s 162us/step - loss: -21.7419 - acc: 0.2433\n",
      "Epoch 6/150\n",
      "1270/1270 [==============================] - 0s 161us/step - loss: -21.7419 - acc: 0.2433\n",
      "Epoch 7/150\n",
      "1270/1270 [==============================] - 0s 168us/step - loss: -21.7419 - acc: 0.2433\n",
      "Epoch 8/150\n",
      "1270/1270 [==============================] - 0s 170us/step - loss: -21.7419 - acc: 0.2433\n",
      "Epoch 9/150\n",
      "1270/1270 [==============================] - 0s 170us/step - loss: -21.7419 - acc: 0.2433\n",
      "Epoch 10/150\n",
      "1270/1270 [==============================] - 0s 161us/step - loss: -21.7419 - acc: 0.2433\n",
      "Epoch 11/150\n",
      "1270/1270 [==============================] - 0s 154us/step - loss: -21.7419 - acc: 0.2433\n",
      "Epoch 12/150\n",
      "1270/1270 [==============================] - 0s 174us/step - loss: -21.7419 - acc: 0.2433\n",
      "Epoch 13/150\n",
      "1270/1270 [==============================] - 0s 168us/step - loss: -21.7419 - acc: 0.2433\n",
      "Epoch 14/150\n",
      "1270/1270 [==============================] - 0s 210us/step - loss: -21.7419 - acc: 0.2433\n",
      "Epoch 15/150\n",
      "1270/1270 [==============================] - 0s 208us/step - loss: -21.7419 - acc: 0.2433\n",
      "Epoch 16/150\n",
      "1270/1270 [==============================] - 0s 208us/step - loss: -21.7419 - acc: 0.2433\n",
      "Epoch 17/150\n",
      "1270/1270 [==============================] - 0s 264us/step - loss: -21.7419 - acc: 0.2433\n",
      "Epoch 18/150\n",
      "1270/1270 [==============================] - 0s 202us/step - loss: -21.7419 - acc: 0.2433\n",
      "Epoch 19/150\n",
      "1270/1270 [==============================] - 0s 159us/step - loss: -21.7419 - acc: 0.2433\n",
      "Epoch 20/150\n",
      "1270/1270 [==============================] - 0s 165us/step - loss: -21.7419 - acc: 0.2433\n",
      "Epoch 21/150\n",
      "1270/1270 [==============================] - 0s 160us/step - loss: -21.7419 - acc: 0.2433\n",
      "Epoch 22/150\n",
      "1270/1270 [==============================] - 0s 180us/step - loss: -21.7419 - acc: 0.2433\n",
      "Epoch 23/150\n",
      "1270/1270 [==============================] - 0s 175us/step - loss: -21.7419 - acc: 0.2433\n",
      "Epoch 24/150\n",
      "1270/1270 [==============================] - 0s 210us/step - loss: -21.7419 - acc: 0.2433\n",
      "Epoch 25/150\n",
      "1270/1270 [==============================] - 0s 161us/step - loss: -21.7419 - acc: 0.2433\n",
      "Epoch 26/150\n",
      "1270/1270 [==============================] - 0s 159us/step - loss: -21.7419 - acc: 0.2433\n",
      "Epoch 27/150\n",
      "1270/1270 [==============================] - 0s 171us/step - loss: -21.7419 - acc: 0.2433\n",
      "Epoch 28/150\n",
      "1270/1270 [==============================] - 0s 157us/step - loss: -21.7419 - acc: 0.2433\n",
      "Epoch 29/150\n",
      "1270/1270 [==============================] - 0s 160us/step - loss: -21.7419 - acc: 0.2433\n",
      "Epoch 30/150\n",
      "1270/1270 [==============================] - 0s 161us/step - loss: -21.7419 - acc: 0.2433\n",
      "Epoch 31/150\n",
      "1270/1270 [==============================] - 0s 163us/step - loss: -21.7419 - acc: 0.2433\n",
      "Epoch 32/150\n",
      "1270/1270 [==============================] - 0s 163us/step - loss: -21.7419 - acc: 0.2433\n",
      "Epoch 33/150\n",
      "1270/1270 [==============================] - 0s 214us/step - loss: -21.7419 - acc: 0.2433\n",
      "Epoch 34/150\n",
      "1270/1270 [==============================] - 0s 226us/step - loss: -21.7419 - acc: 0.2433\n",
      "Epoch 35/150\n",
      "1270/1270 [==============================] - 0s 201us/step - loss: -21.7419 - acc: 0.2433\n",
      "Epoch 36/150\n",
      "1270/1270 [==============================] - 0s 256us/step - loss: -21.7419 - acc: 0.2433\n",
      "Epoch 37/150\n",
      "1270/1270 [==============================] - 0s 179us/step - loss: -21.7419 - acc: 0.2433\n",
      "Epoch 38/150\n",
      "1270/1270 [==============================] - 0s 184us/step - loss: -21.7419 - acc: 0.2433\n",
      "Epoch 39/150\n",
      "1270/1270 [==============================] - 0s 175us/step - loss: -21.7419 - acc: 0.2433\n",
      "Epoch 40/150\n",
      "1270/1270 [==============================] - 0s 161us/step - loss: -21.7419 - acc: 0.2433\n",
      "Epoch 41/150\n",
      "1270/1270 [==============================] - 0s 235us/step - loss: -21.7419 - acc: 0.2433\n",
      "Epoch 42/150\n",
      "1270/1270 [==============================] - 0s 183us/step - loss: -21.7419 - acc: 0.2433\n",
      "Epoch 43/150\n",
      "1270/1270 [==============================] - 0s 168us/step - loss: -21.7419 - acc: 0.2433\n",
      "Epoch 44/150\n",
      "1270/1270 [==============================] - 0s 166us/step - loss: -21.7419 - acc: 0.2433\n",
      "Epoch 45/150\n",
      "1270/1270 [==============================] - 0s 225us/step - loss: -21.7419 - acc: 0.2433\n",
      "Epoch 46/150\n",
      "1270/1270 [==============================] - 0s 279us/step - loss: -21.7419 - acc: 0.2433\n",
      "Epoch 47/150\n",
      "1270/1270 [==============================] - 0s 201us/step - loss: -21.7419 - acc: 0.2433\n",
      "Epoch 48/150\n",
      "1270/1270 [==============================] - 0s 249us/step - loss: -21.7419 - acc: 0.2433\n",
      "Epoch 49/150\n",
      "1270/1270 [==============================] - 0s 184us/step - loss: -21.7419 - acc: 0.2433\n",
      "Epoch 50/150\n",
      "1270/1270 [==============================] - 0s 154us/step - loss: -21.7419 - acc: 0.2433\n",
      "Epoch 51/150\n",
      "1270/1270 [==============================] - 0s 225us/step - loss: -21.7419 - acc: 0.2433\n",
      "Epoch 52/150\n",
      "1270/1270 [==============================] - 0s 173us/step - loss: -21.7419 - acc: 0.2433\n",
      "Epoch 53/150\n",
      "1270/1270 [==============================] - 0s 160us/step - loss: -21.7419 - acc: 0.2433\n",
      "Epoch 54/150\n",
      "1270/1270 [==============================] - 0s 155us/step - loss: -21.7419 - acc: 0.2433\n",
      "Epoch 55/150\n",
      "1270/1270 [==============================] - 0s 168us/step - loss: -21.7419 - acc: 0.2433\n",
      "Epoch 56/150\n",
      "1270/1270 [==============================] - 0s 189us/step - loss: -21.7419 - acc: 0.2433\n",
      "Epoch 57/150\n",
      "1270/1270 [==============================] - 0s 152us/step - loss: -21.7419 - acc: 0.2433\n",
      "Epoch 58/150\n",
      "1270/1270 [==============================] - 0s 169us/step - loss: -21.7419 - acc: 0.2433\n",
      "Epoch 59/150\n",
      "1270/1270 [==============================] - 0s 158us/step - loss: -21.7419 - acc: 0.2433\n",
      "Epoch 60/150\n",
      "1270/1270 [==============================] - 0s 156us/step - loss: -21.7419 - acc: 0.2433\n",
      "Epoch 61/150\n",
      "1270/1270 [==============================] - 0s 162us/step - loss: -21.7419 - acc: 0.2433\n",
      "Epoch 62/150\n",
      "1270/1270 [==============================] - 0s 166us/step - loss: -21.7419 - acc: 0.2433\n",
      "Epoch 63/150\n",
      "1270/1270 [==============================] - 0s 160us/step - loss: -21.7419 - acc: 0.2433\n",
      "Epoch 64/150\n",
      "1270/1270 [==============================] - 0s 160us/step - loss: -21.7419 - acc: 0.2433\n",
      "Epoch 65/150\n",
      "1270/1270 [==============================] - 0s 200us/step - loss: -21.7419 - acc: 0.2433\n",
      "Epoch 66/150\n",
      "1270/1270 [==============================] - 0s 229us/step - loss: -21.7419 - acc: 0.2433\n",
      "Epoch 67/150\n",
      "1270/1270 [==============================] - 0s 172us/step - loss: -21.7419 - acc: 0.2433\n",
      "Epoch 68/150\n",
      "1270/1270 [==============================] - 0s 216us/step - loss: -21.7419 - acc: 0.2433\n",
      "Epoch 69/150\n",
      "1270/1270 [==============================] - 0s 154us/step - loss: -21.7419 - acc: 0.2433\n",
      "Epoch 70/150\n",
      "1270/1270 [==============================] - 0s 164us/step - loss: -21.7419 - acc: 0.2433\n",
      "Epoch 71/150\n",
      "1270/1270 [==============================] - 0s 154us/step - loss: -21.7419 - acc: 0.2433\n",
      "Epoch 72/150\n",
      "1270/1270 [==============================] - 0s 177us/step - loss: -21.7419 - acc: 0.2433\n",
      "Epoch 73/150\n",
      "1270/1270 [==============================] - 0s 161us/step - loss: -21.7419 - acc: 0.2433\n",
      "Epoch 74/150\n",
      "1270/1270 [==============================] - 0s 167us/step - loss: -21.7419 - acc: 0.2433\n",
      "Epoch 75/150\n",
      "1270/1270 [==============================] - 0s 179us/step - loss: -21.7419 - acc: 0.2433\n",
      "Epoch 76/150\n",
      "1270/1270 [==============================] - 0s 199us/step - loss: -21.7419 - acc: 0.2433\n",
      "Epoch 77/150\n",
      "1270/1270 [==============================] - 0s 233us/step - loss: -21.7419 - acc: 0.2433\n",
      "Epoch 78/150\n",
      "1270/1270 [==============================] - 0s 280us/step - loss: -21.7419 - acc: 0.2433\n",
      "Epoch 79/150\n",
      "1270/1270 [==============================] - 0s 226us/step - loss: -21.7419 - acc: 0.2433\n",
      "Epoch 80/150\n"
     ]
    },
    {
     "name": "stdout",
     "output_type": "stream",
     "text": [
      "1270/1270 [==============================] - 0s 238us/step - loss: -21.7419 - acc: 0.2433\n",
      "Epoch 81/150\n",
      "1270/1270 [==============================] - 0s 198us/step - loss: -21.7419 - acc: 0.2433\n",
      "Epoch 82/150\n",
      "1270/1270 [==============================] - 0s 167us/step - loss: -21.7419 - acc: 0.2433\n",
      "Epoch 83/150\n",
      "1270/1270 [==============================] - 0s 209us/step - loss: -21.7419 - acc: 0.2433\n",
      "Epoch 84/150\n",
      "1270/1270 [==============================] - 0s 169us/step - loss: -21.7419 - acc: 0.2433\n",
      "Epoch 85/150\n",
      "1270/1270 [==============================] - 0s 158us/step - loss: -21.7419 - acc: 0.2433\n",
      "Epoch 86/150\n",
      "1270/1270 [==============================] - 0s 152us/step - loss: -21.7419 - acc: 0.2433\n",
      "Epoch 87/150\n",
      "1270/1270 [==============================] - 0s 163us/step - loss: -21.7419 - acc: 0.2433\n",
      "Epoch 88/150\n",
      "1270/1270 [==============================] - 0s 198us/step - loss: -21.7419 - acc: 0.2433\n",
      "Epoch 89/150\n",
      "1270/1270 [==============================] - 0s 193us/step - loss: -21.7419 - acc: 0.2433\n",
      "Epoch 90/150\n",
      "1270/1270 [==============================] - 0s 210us/step - loss: -21.7419 - acc: 0.2433\n",
      "Epoch 91/150\n",
      "1270/1270 [==============================] - 0s 222us/step - loss: -21.7419 - acc: 0.2433\n",
      "Epoch 92/150\n",
      "1270/1270 [==============================] - 0s 157us/step - loss: -21.7419 - acc: 0.2433\n",
      "Epoch 93/150\n",
      "1270/1270 [==============================] - 0s 166us/step - loss: -21.7419 - acc: 0.2433\n",
      "Epoch 94/150\n",
      "1270/1270 [==============================] - 0s 182us/step - loss: -21.7419 - acc: 0.2433\n",
      "Epoch 95/150\n",
      "1270/1270 [==============================] - 0s 191us/step - loss: -21.7419 - acc: 0.2433\n",
      "Epoch 96/150\n",
      "1270/1270 [==============================] - ETA: 0s - loss: -21.7112 - acc: 0.252 - 0s 157us/step - loss: -21.7419 - acc: 0.2433\n",
      "Epoch 97/150\n",
      "1270/1270 [==============================] - 0s 184us/step - loss: -21.7419 - acc: 0.2433\n",
      "Epoch 98/150\n",
      "1270/1270 [==============================] - 0s 171us/step - loss: -21.7419 - acc: 0.2433\n",
      "Epoch 99/150\n",
      "1270/1270 [==============================] - 0s 149us/step - loss: -21.7419 - acc: 0.2433\n",
      "Epoch 100/150\n",
      "1270/1270 [==============================] - 0s 152us/step - loss: -21.7419 - acc: 0.2433\n",
      "Epoch 101/150\n",
      "1270/1270 [==============================] - 0s 152us/step - loss: -21.7419 - acc: 0.2433\n",
      "Epoch 102/150\n",
      "1270/1270 [==============================] - 0s 159us/step - loss: -21.7419 - acc: 0.2433\n",
      "Epoch 103/150\n",
      "1270/1270 [==============================] - 0s 166us/step - loss: -21.7419 - acc: 0.2433\n",
      "Epoch 104/150\n",
      "1270/1270 [==============================] - 0s 157us/step - loss: -21.7419 - acc: 0.2433\n",
      "Epoch 105/150\n",
      "1270/1270 [==============================] - 0s 154us/step - loss: -21.7419 - acc: 0.2433\n",
      "Epoch 106/150\n",
      "1270/1270 [==============================] - 0s 155us/step - loss: -21.7419 - acc: 0.2433\n",
      "Epoch 107/150\n",
      "1270/1270 [==============================] - 0s 160us/step - loss: -21.7419 - acc: 0.2433\n",
      "Epoch 108/150\n",
      "1270/1270 [==============================] - 0s 161us/step - loss: -21.7419 - acc: 0.2433\n",
      "Epoch 109/150\n",
      "1270/1270 [==============================] - 0s 159us/step - loss: -21.7419 - acc: 0.2433\n",
      "Epoch 110/150\n",
      "1270/1270 [==============================] - 0s 211us/step - loss: -21.7419 - acc: 0.2433\n",
      "Epoch 111/150\n",
      "1270/1270 [==============================] - 0s 267us/step - loss: -21.7419 - acc: 0.2433\n",
      "Epoch 112/150\n",
      "1270/1270 [==============================] - 0s 176us/step - loss: -21.7419 - acc: 0.2433\n",
      "Epoch 113/150\n",
      "1270/1270 [==============================] - 0s 148us/step - loss: -21.7419 - acc: 0.2433\n",
      "Epoch 114/150\n",
      "1270/1270 [==============================] - 0s 152us/step - loss: -21.7419 - acc: 0.2433\n",
      "Epoch 115/150\n",
      "1270/1270 [==============================] - 0s 159us/step - loss: -21.7419 - acc: 0.2433\n",
      "Epoch 116/150\n",
      "1270/1270 [==============================] - 0s 177us/step - loss: -21.7419 - acc: 0.2433\n",
      "Epoch 117/150\n",
      "1270/1270 [==============================] - 0s 174us/step - loss: -21.7419 - acc: 0.2433\n",
      "Epoch 118/150\n",
      "1270/1270 [==============================] - 0s 163us/step - loss: -21.7419 - acc: 0.2433\n",
      "Epoch 119/150\n",
      "1270/1270 [==============================] - 0s 175us/step - loss: -21.7419 - acc: 0.2433\n",
      "Epoch 120/150\n",
      "1270/1270 [==============================] - 0s 157us/step - loss: -21.7419 - acc: 0.2433\n",
      "Epoch 121/150\n",
      "1270/1270 [==============================] - 0s 151us/step - loss: -21.7419 - acc: 0.2433\n",
      "Epoch 122/150\n",
      "1270/1270 [==============================] - 0s 152us/step - loss: -21.7419 - acc: 0.2433\n",
      "Epoch 123/150\n",
      "1270/1270 [==============================] - 0s 154us/step - loss: -21.7419 - acc: 0.2433\n",
      "Epoch 124/150\n",
      "1270/1270 [==============================] - 0s 150us/step - loss: -21.7419 - acc: 0.2433\n",
      "Epoch 125/150\n",
      "1270/1270 [==============================] - 0s 225us/step - loss: -21.7419 - acc: 0.2433\n",
      "Epoch 126/150\n",
      "1270/1270 [==============================] - 0s 176us/step - loss: -21.7419 - acc: 0.2433\n",
      "Epoch 127/150\n",
      "1270/1270 [==============================] - ETA: 0s - loss: -21.6108 - acc: 0.244 - 0s 156us/step - loss: -21.7419 - acc: 0.2433\n",
      "Epoch 128/150\n",
      "1270/1270 [==============================] - 0s 145us/step - loss: -21.7419 - acc: 0.2433\n",
      "Epoch 129/150\n",
      "1270/1270 [==============================] - 0s 145us/step - loss: -21.7419 - acc: 0.2433\n",
      "Epoch 130/150\n",
      "1270/1270 [==============================] - 0s 151us/step - loss: -21.7419 - acc: 0.2433\n",
      "Epoch 131/150\n",
      "1270/1270 [==============================] - 0s 158us/step - loss: -21.7419 - acc: 0.2433\n",
      "Epoch 132/150\n",
      "1270/1270 [==============================] - 0s 157us/step - loss: -21.7419 - acc: 0.2433\n",
      "Epoch 133/150\n",
      "1270/1270 [==============================] - 0s 152us/step - loss: -21.7419 - acc: 0.2433\n",
      "Epoch 134/150\n",
      "1270/1270 [==============================] - 0s 170us/step - loss: -21.7419 - acc: 0.2433\n",
      "Epoch 135/150\n",
      "1270/1270 [==============================] - 0s 173us/step - loss: -21.7419 - acc: 0.2433\n",
      "Epoch 136/150\n",
      "1270/1270 [==============================] - 0s 160us/step - loss: -21.7419 - acc: 0.2433\n",
      "Epoch 137/150\n",
      "1270/1270 [==============================] - 0s 157us/step - loss: -21.7419 - acc: 0.2433\n",
      "Epoch 138/150\n",
      "1270/1270 [==============================] - 0s 152us/step - loss: -21.7419 - acc: 0.2433\n",
      "Epoch 139/150\n",
      "1270/1270 [==============================] - 0s 161us/step - loss: -21.7419 - acc: 0.2433\n",
      "Epoch 140/150\n",
      "1270/1270 [==============================] - 0s 159us/step - loss: -21.7419 - acc: 0.2433\n",
      "Epoch 141/150\n",
      "1270/1270 [==============================] - 0s 209us/step - loss: -21.7419 - acc: 0.2433\n",
      "Epoch 142/150\n",
      "1270/1270 [==============================] - 0s 156us/step - loss: -21.7419 - acc: 0.2433\n",
      "Epoch 143/150\n",
      "1270/1270 [==============================] - 0s 146us/step - loss: -21.7419 - acc: 0.2433\n",
      "Epoch 144/150\n",
      "1270/1270 [==============================] - 0s 148us/step - loss: -21.7419 - acc: 0.2433\n",
      "Epoch 145/150\n",
      "1270/1270 [==============================] - 0s 157us/step - loss: -21.7419 - acc: 0.2433\n",
      "Epoch 146/150\n",
      "1270/1270 [==============================] - 0s 155us/step - loss: -21.7419 - acc: 0.2433\n",
      "Epoch 147/150\n",
      "1270/1270 [==============================] - 0s 150us/step - loss: -21.7419 - acc: 0.2433\n",
      "Epoch 148/150\n",
      "1270/1270 [==============================] - 0s 154us/step - loss: -21.7419 - acc: 0.2433\n",
      "Epoch 149/150\n",
      "1270/1270 [==============================] - 0s 152us/step - loss: -21.7419 - acc: 0.2433\n",
      "Epoch 150/150\n",
      "1270/1270 [==============================] - 0s 218us/step - loss: -21.7419 - acc: 0.2433\n"
     ]
    },
    {
     "data": {
      "text/plain": [
       "<keras.callbacks.History at 0x7fae6cfb2b90>"
      ]
     },
     "execution_count": 154,
     "metadata": {},
     "output_type": "execute_result"
    }
   ],
   "source": [
    "model.fit(x, y, epochs=150, batch_size=10)"
   ]
  },
  {
   "cell_type": "markdown",
   "metadata": {},
   "source": [
    "### Evaluation"
   ]
  },
  {
   "cell_type": "code",
   "execution_count": 70,
   "metadata": {},
   "outputs": [],
   "source": [
    "### need to split up testing and training data"
   ]
  },
  {
   "cell_type": "code",
   "execution_count": 137,
   "metadata": {},
   "outputs": [
    {
     "name": "stdout",
     "output_type": "stream",
     "text": [
      "1270/1270 [==============================] - 0s 75us/step\n",
      "\n",
      "acc: 24.33%\n"
     ]
    }
   ],
   "source": [
    "scores = model.evaluate(x, y)\n",
    "print(\"\\n%s: %.2f%%\" % (model.metrics_names[1], scores[1]*100))"
   ]
  },
  {
   "cell_type": "markdown",
   "metadata": {},
   "source": [
    "### Predicting"
   ]
  },
  {
   "cell_type": "markdown",
   "metadata": {},
   "source": [
    "Input a new song a get a prediction"
   ]
  },
  {
   "cell_type": "code",
   "execution_count": 106,
   "metadata": {},
   "outputs": [],
   "source": [
    "spotify_song_id = '2KRQR1VK6OoJxpwVzwDv72' #funky duck by vulfpeck"
   ]
  },
  {
   "cell_type": "code",
   "execution_count": 138,
   "metadata": {},
   "outputs": [],
   "source": [
    "spotify_song_id = '2gTYVoQCUh0QNUaFix01ld' #chun-li by nicki minaj"
   ]
  },
  {
   "cell_type": "code",
   "execution_count": 112,
   "metadata": {},
   "outputs": [],
   "source": [
    "spotify_song_id = '2dBwB667LHQkLhdYlwLUZK' #summertime sadness by lana del rey"
   ]
  },
  {
   "cell_type": "code",
   "execution_count": 113,
   "metadata": {},
   "outputs": [
    {
     "name": "stdout",
     "output_type": "stream",
     "text": [
      "[[ 7.01000e-02  5.65000e-01  2.65427e+05  6.56000e-01  2.25000e-06\n",
      "   1.00000e+00  1.23000e-01 -6.80600e+00  0.00000e+00  3.29000e-02\n",
      "   1.11977e+02  4.00000e+00  2.30000e-01]]\n"
     ]
    }
   ],
   "source": [
    "song_features = sp.audio_features([spotify_song_id])\n",
    "song_input = pd.DataFrame(song_features).drop(columns=['analysis_url','track_href','uri','type']).set_index('id')\n",
    "song_np = song_input.values\n",
    "print(song_np)"
   ]
  },
  {
   "cell_type": "code",
   "execution_count": 139,
   "metadata": {
    "scrolled": true
   },
   "outputs": [
    {
     "name": "stdout",
     "output_type": "stream",
     "text": [
      "[1.0]\n"
     ]
    }
   ],
   "source": [
    "predictions = model.predict(song_np)\n",
    "rounded = [round(x[0]) for x in predictions]\n",
    "print(rounded)"
   ]
  }
 ],
 "metadata": {
  "kernelspec": {
   "display_name": "Python 3",
   "language": "python",
   "name": "python3"
  },
  "language_info": {
   "codemirror_mode": {
    "name": "ipython",
    "version": 2
   },
   "file_extension": ".py",
   "mimetype": "text/x-python",
   "name": "python",
   "nbconvert_exporter": "python",
   "pygments_lexer": "ipython2",
   "version": "2.7.14"
  }
 },
 "nbformat": 4,
 "nbformat_minor": 2
}
